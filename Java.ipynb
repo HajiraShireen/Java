{
  "nbformat": 4,
  "nbformat_minor": 0,
  "metadata": {
    "colab": {
      "name": "Java",
      "provenance": [],
      "collapsed_sections": [],
      "authorship_tag": "ABX9TyNNqLaV47AycclivUktvbOw",
      "include_colab_link": true
    },
    "kernelspec": {
      "name": "python3",
      "display_name": "Python 3"
    },
    "language_info": {
      "name": "python"
    }
  },
  "cells": [
    {
      "cell_type": "markdown",
      "metadata": {
        "id": "view-in-github",
        "colab_type": "text"
      },
      "source": [
        "<a href=\"https://colab.research.google.com/github/HajiraShireen/Java/blob/main/Java.ipynb\" target=\"_parent\"><img src=\"https://colab.research.google.com/assets/colab-badge.svg\" alt=\"Open In Colab\"/></a>"
      ]
    },
    {
      "cell_type": "markdown",
      "source": [
        "JAVA ASSIGNMENT"
      ],
      "metadata": {
        "id": "0ePTB64uSpv0"
      }
    },
    {
      "cell_type": "markdown",
      "source": [
        "1.Check whether the no is positive, negative or zero"
      ],
      "metadata": {
        "id": "HT-Kr33ISqID"
      }
    },
    {
      "cell_type": "code",
      "source": [
        "import java.util.*;\n",
        "class Main\n",
        "{\n",
        "    public static void main (String args[])\n",
        "    {\n",
        "        System.out.println(\"Enter the Number\");\n",
        "        Scanner sc=new Scanner(System.in);\n",
        "        int n1=sc.nextInt();\n",
        "        if (n1>0)\n",
        "        {\n",
        "            System.out.println(\"Positive\");\n",
        "        }\n",
        "        else if (n1<0)\n",
        "        {\n",
        "            System.out.println(\"Negative\");\n",
        "        }\n",
        "        else\n",
        "        {\n",
        "            System.out.println(\"Zero\");\n",
        "        }\n",
        "    }\n",
        "}"
      ],
      "metadata": {
        "id": "rr7YJbSSSx7R"
      },
      "execution_count": null,
      "outputs": []
    },
    {
      "cell_type": "markdown",
      "source": [
        "2.Check whether the number is even/odd"
      ],
      "metadata": {
        "id": "pX6ltHDPTl8I"
      }
    },
    {
      "cell_type": "code",
      "source": [
        "import java.util.*;\n",
        "class Main\n",
        "{\n",
        "    public static void main (String args[])\n",
        "    {\n",
        "        System.out.println(\"Enter the Number\");\n",
        "        Scanner sc=new Scanner(System.in);\n",
        "        int n=sc.nextInt();\n",
        "        if (n%2==0)\n",
        "        {\n",
        "            System.out.println(\"Even\");\n",
        "        }\n",
        "        else if (n%2==1)\n",
        "        {\n",
        "            System.out.println(\"Odd\");\n",
        "        }\n",
        "   }\n",
        "}"
      ],
      "metadata": {
        "id": "uTi2yMHkTwIO"
      },
      "execution_count": null,
      "outputs": []
    },
    {
      "cell_type": "markdown",
      "source": [
        "3.Check whether a character is a vowel/consonant"
      ],
      "metadata": {
        "id": "liYcJ93oUkJJ"
      }
    },
    {
      "cell_type": "code",
      "source": [
        "import java.util.*;\n",
        "class Main\n",
        "{\n",
        "    public static void main(String[]args)\n",
        "    {\n",
        "        System.out.println(\"enter the character\");\n",
        "        Scanner sc=new Scanner(System.in);\n",
        "        char c=sc.next().charAt(0);\n",
        "        if (c=='A' or c=='E' or c=='I' or  c=='O' or c=='U' or c=='a' or c=='e' or c=='i' or c=='o' or c=='u')\n",
        "        System.out.println(\"Vowel\");\n",
        "        else\n",
        "        System.out.println(\"Consonant\");      \n",
        "    }\n",
        "}"
      ],
      "metadata": {
        "id": "vxPjPoG2Ut8O"
      },
      "execution_count": null,
      "outputs": []
    },
    {
      "cell_type": "markdown",
      "source": [
        "4.Check whether a character is an alphabet or not"
      ],
      "metadata": {
        "id": "YQC7n_RMVzq4"
      }
    },
    {
      "cell_type": "code",
      "source": [
        "import java.util.*;\n",
        "class Main\n",
        "{\n",
        "    public static void main(String[]args)\n",
        "    {\n",
        "        System.out.println(\"Enter the character\");\n",
        "        Scanner sc=new Scanner(System.in);\n",
        "        char c=sc.next().charAt(0);\n",
        "        if ( (c>='a' && c<='z') or (c>='A' && c<='Z'))\n",
        "        System.out.println(\"Alphabet\");\n",
        "        else\n",
        "        System.out.println(\"No\");\n",
        "    }\n",
        "}"
      ],
      "metadata": {
        "id": "8fe981xzV69j"
      },
      "execution_count": null,
      "outputs": []
    },
    {
      "cell_type": "markdown",
      "source": [
        "5.Find the largest number among three numbers entered by user"
      ],
      "metadata": {
        "id": "N3q3_AX5WuAK"
      }
    },
    {
      "cell_type": "code",
      "source": [
        "import java.util.*;\n",
        "public class Main\n",
        "{\n",
        "    public static void main(String[]args)\n",
        "    {\n",
        "        int n1,n2,n3;\n",
        "        Scanner sc=new Scanner(System.in);\n",
        "        System.out.println(\"Enter the first number\");\n",
        "        n1=sc.nextInt();\n",
        "        System.out.println(\"Enter the second number\");\n",
        "        n2=sc.nextInt();\n",
        "        System.out.println(\"Enter the third number\");\n",
        "        n3=sc.nextInt();\n",
        "        if (n1>n2 && n1>n3)\n",
        "        {\n",
        "            System.out.println(\"\"+n1);\n",
        "        }\n",
        "        else if (n2>n3)\n",
        "        {\n",
        "            System.out.println(\"\"+n2);\n",
        "        }\n",
        "        else\n",
        "        {\n",
        "            System.out.println(\"\"+n3);\n",
        "        }\n",
        "    }\n",
        "}"
      ],
      "metadata": {
        "id": "6AyCA1g-WyA5"
      },
      "execution_count": null,
      "outputs": []
    },
    {
      "cell_type": "markdown",
      "source": [
        "6.Check whether the year is a leap year or not"
      ],
      "metadata": {
        "id": "qzds6ht7YYuv"
      }
    },
    {
      "cell_type": "code",
      "source": [
        "import java.util.*;\n",
        "public class Main\n",
        "{\n",
        "    public static void main(String[]args)\n",
        "    {\n",
        "        int l;\n",
        "        Scanner sc=new Scanner(System.in);\n",
        "        System.out.println(\"Enter the Year\");\n",
        "        l=sc.nextInt();\n",
        "       if (l%4==0)\n",
        "        {\n",
        "            System.out.println(\"yes\");\n",
        "        }\n",
        "        else\n",
        "        {\n",
        "            System.out.println(\"no\");\n",
        "        }\n",
        "    }\n",
        "}"
      ],
      "metadata": {
        "id": "TBLv-7hSYdB-"
      },
      "execution_count": null,
      "outputs": []
    },
    {
      "cell_type": "markdown",
      "source": [
        "7.Write a program to print 'Hello' word N times given N"
      ],
      "metadata": {
        "id": "kaDAZSkUYyCw"
      }
    },
    {
      "cell_type": "code",
      "source": [
        "import java.util.*;\n",
        "public class Main\n",
        "{\n",
        "    public static void main(String[]args)\n",
        "    {\n",
        "        System.out.println(\"Enter the required number\");\n",
        "        Scanner sc=new Scanner(System.in);\n",
        "        int n=sc.nextInt();\n",
        "        for(int i=0;i<n;i++ )\n",
        "        {\n",
        "            System.out.println(\"Hello\");\n",
        "        }\n",
        "    }\n",
        "}"
      ],
      "metadata": {
        "id": "JBItnjrkY19g"
      },
      "execution_count": null,
      "outputs": []
    },
    {
      "cell_type": "markdown",
      "source": [
        "8.Calculate the sum of natural numbers upto N"
      ],
      "metadata": {
        "id": "Va_gsuUIZNCU"
      }
    },
    {
      "cell_type": "code",
      "source": [
        "import java.util.*;\n",
        "public class Main\n",
        "{\n",
        "    public static void main(String[]args)\n",
        "    {\n",
        "        System.out.println(\"Enter the number\");\n",
        "        Scanner sc=new Scanner(System.in);\n",
        "        int n=sc.nextInt();\n",
        "        int sum=0;\n",
        "        for(int i=1;i<=n;i++ )\n",
        "         sum=sum + i;\n",
        "        {\n",
        "            System.out.println(sum);\n",
        "        }\n",
        "    }\n",
        "}"
      ],
      "metadata": {
        "id": "ItaHXNoUZRUx"
      },
      "execution_count": null,
      "outputs": []
    },
    {
      "cell_type": "markdown",
      "source": [
        "9.Given 2 numbers N,K and an array of N integers, find the sum of the first 'K' integers"
      ],
      "metadata": {
        "id": "MfbJF9r6ZkRS"
      }
    },
    {
      "cell_type": "code",
      "source": [
        "import java.util.*;\n",
        "class Main\n",
        "{\n",
        "    public static void main(String[] args)\n",
        "    {\n",
        "        Scanner obj=new Scanner(System.in) ;\n",
        "        int n=obj.nextInt();\n",
        "        int sum=0;\n",
        "        int k=obj.nextInt();\n",
        "        int arr[]=new int[n];\n",
        "        for(int i =0;i<n;i++)\n",
        "        {\n",
        "            arr[i]=obj.nextInt();\n",
        "            if(i<k)\n",
        "            {\n",
        "                sum=sum+arr[i];\n",
        "            }\n",
        "        }\n",
        "        System.out.println(sum);      \n",
        "}\n",
        "}"
      ],
      "metadata": {
        "id": "UXh88u05ZpWx"
      },
      "execution_count": null,
      "outputs": []
    }
  ]
}